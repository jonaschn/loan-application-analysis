{
 "cells": [
  {
   "cell_type": "markdown",
   "metadata": {},
   "source": [
    "# Exploratory Data Analysis\n",
    "The dataset contains information about loan applications in New York"
   ]
  },
  {
   "cell_type": "code",
   "execution_count": 1,
   "metadata": {},
   "outputs": [],
   "source": [
    "import pandas as pd\n",
    "import numpy as np\n",
    "import matplotlib.pyplot as plt\n",
    "import seaborn as sns\n",
    "%matplotlib inline"
   ]
  },
  {
   "cell_type": "code",
   "execution_count": 2,
   "metadata": {},
   "outputs": [],
   "source": [
    "# Make everything visible\n",
    "pd.set_option('display.max_colwidth', None)\n",
    "pd.set_option('display.max_columns', None)\n",
    "# Limit precision\n",
    "pd.set_option(\"display.precision\", 2)"
   ]
  },
  {
   "cell_type": "markdown",
   "metadata": {},
   "source": [
    "## Get to know the variables"
   ]
  },
  {
   "cell_type": "code",
   "execution_count": 3,
   "metadata": {},
   "outputs": [],
   "source": [
    "header = pd.read_csv(\"description.csv\", delimiter=\";\", names=[\"field\", \"description\"])"
   ]
  },
  {
   "cell_type": "code",
   "execution_count": 4,
   "metadata": {},
   "outputs": [
    {
     "data": {
      "text/html": [
       "<div>\n",
       "<style scoped>\n",
       "    .dataframe tbody tr th:only-of-type {\n",
       "        vertical-align: middle;\n",
       "    }\n",
       "\n",
       "    .dataframe tbody tr th {\n",
       "        vertical-align: top;\n",
       "    }\n",
       "\n",
       "    .dataframe thead th {\n",
       "        text-align: right;\n",
       "    }\n",
       "</style>\n",
       "<table border=\"1\" class=\"dataframe\">\n",
       "  <thead>\n",
       "    <tr style=\"text-align: right;\">\n",
       "      <th></th>\n",
       "      <th>field</th>\n",
       "      <th>description</th>\n",
       "    </tr>\n",
       "  </thead>\n",
       "  <tbody>\n",
       "    <tr>\n",
       "      <th>0</th>\n",
       "      <td>action_taken_name</td>\n",
       "      <td>The action taken on the loan or application, such as whether an application was approved or denied. Loan originated means the application resulted in a mortgage. Loan purchased means that the lender bought the loan on the secondary market.</td>\n",
       "    </tr>\n",
       "    <tr>\n",
       "      <th>1</th>\n",
       "      <td>agency_name</td>\n",
       "      <td>The federal agency to which the HMDA-reporting institution submits its HMDA data.</td>\n",
       "    </tr>\n",
       "    <tr>\n",
       "      <th>2</th>\n",
       "      <td>applicant_ethnicity_name</td>\n",
       "      <td>The ethnicity of the primary applicant.</td>\n",
       "    </tr>\n",
       "    <tr>\n",
       "      <th>3</th>\n",
       "      <td>applicant_income_000s</td>\n",
       "      <td>The gross annual income that the lender relied on when evaluating the creditworthiness of the applicant, rounded to the nearest thousand.</td>\n",
       "    </tr>\n",
       "    <tr>\n",
       "      <th>4</th>\n",
       "      <td>applicant_race_name_1</td>\n",
       "      <td>The first listed race for the primary applicant.</td>\n",
       "    </tr>\n",
       "    <tr>\n",
       "      <th>5</th>\n",
       "      <td>applicant_sex_name</td>\n",
       "      <td>The sex of the primary applicant.</td>\n",
       "    </tr>\n",
       "    <tr>\n",
       "      <th>6</th>\n",
       "      <td>co_applicant_ethnicity_name</td>\n",
       "      <td>The ethnicity of the co-applicant.</td>\n",
       "    </tr>\n",
       "    <tr>\n",
       "      <th>7</th>\n",
       "      <td>co_applicant_race_name_1</td>\n",
       "      <td>The first listed race for the co-applicant.</td>\n",
       "    </tr>\n",
       "    <tr>\n",
       "      <th>8</th>\n",
       "      <td>co_applicant_sex_name</td>\n",
       "      <td>The sex of the co-applicant.</td>\n",
       "    </tr>\n",
       "    <tr>\n",
       "      <th>9</th>\n",
       "      <td>county_name</td>\n",
       "      <td>The name of the county containing the property.</td>\n",
       "    </tr>\n",
       "    <tr>\n",
       "      <th>10</th>\n",
       "      <td>denial_reason_name_1</td>\n",
       "      <td>The first reason for denial of the application. Lenders may report up to three denial reasons, but such reporting is optional.</td>\n",
       "    </tr>\n",
       "    <tr>\n",
       "      <th>11</th>\n",
       "      <td>denial_reason_name_2</td>\n",
       "      <td>The second reason for denial of the application.</td>\n",
       "    </tr>\n",
       "    <tr>\n",
       "      <th>12</th>\n",
       "      <td>denial_reason_name_3</td>\n",
       "      <td>The third reason for denial of the application.</td>\n",
       "    </tr>\n",
       "    <tr>\n",
       "      <th>13</th>\n",
       "      <td>hoepa_status_name</td>\n",
       "      <td>The HOEPA status of the application representing whether a loan is subject to the Home Ownership and Equity Protection Act of 1994 (HOEPA).</td>\n",
       "    </tr>\n",
       "    <tr>\n",
       "      <th>14</th>\n",
       "      <td>hud_median_family_income</td>\n",
       "      <td>The median family income in dollars for the MSA/MD (Metropolitian Statistical Area/Metropolitian Division) in which the tract is located.</td>\n",
       "    </tr>\n",
       "    <tr>\n",
       "      <th>15</th>\n",
       "      <td>lien_status_name</td>\n",
       "      <td>The lien status. Most mortgages are secured by a lien against the property. In the event of a forced liquidation, first lien holders will generally get paid before subordinate lien holders.</td>\n",
       "    </tr>\n",
       "    <tr>\n",
       "      <th>16</th>\n",
       "      <td>loan_amount_000s</td>\n",
       "      <td>The amount of the loan applied for, in thousands of dollars.</td>\n",
       "    </tr>\n",
       "    <tr>\n",
       "      <th>17</th>\n",
       "      <td>loan_purpose_name</td>\n",
       "      <td>The purpose of the loan (home purchase, refinance, or home improvement).</td>\n",
       "    </tr>\n",
       "    <tr>\n",
       "      <th>18</th>\n",
       "      <td>loan_type_name</td>\n",
       "      <td>The type of loan applied for. Many loans are insured or guaranteed by government programs offered by Federal Housing Administration (FHA), the Department of Veterans Affairs (VA), or the Department of Agriculture's Rural Housing Service (RHS) or Farm Service Agency (FSA). All other loans are classified as conventional.</td>\n",
       "    </tr>\n",
       "    <tr>\n",
       "      <th>19</th>\n",
       "      <td>minority_population</td>\n",
       "      <td>The percentage of minority population to total population for the census tract, carried to two decimal places.</td>\n",
       "    </tr>\n",
       "    <tr>\n",
       "      <th>20</th>\n",
       "      <td>msamd_name</td>\n",
       "      <td>The Metropolitian Statistical Area/Metropolitian Division (MSA/MD) the property is located in. An MSA is a region with relatively high population density at its core (usually a single large city) and close economic ties throughout. Larger MSAs are divided into MDs.</td>\n",
       "    </tr>\n",
       "    <tr>\n",
       "      <th>21</th>\n",
       "      <td>number_of_1_to_4_family_units</td>\n",
       "      <td>The number of dwellings in the tract that are built to house fewer than 5 families.</td>\n",
       "    </tr>\n",
       "    <tr>\n",
       "      <th>22</th>\n",
       "      <td>number_of_owner_occupied_units</td>\n",
       "      <td>The number of dwellings in the tract that are lived in by the owner.</td>\n",
       "    </tr>\n",
       "    <tr>\n",
       "      <th>23</th>\n",
       "      <td>owner_occupancy_name</td>\n",
       "      <td>The owner-occupancy status of the property. Second homes, vacation homes, and rental properties are classified as \"not owner-occupied as a principal dwelling\".</td>\n",
       "    </tr>\n",
       "    <tr>\n",
       "      <th>24</th>\n",
       "      <td>population</td>\n",
       "      <td>The total population in the tract.</td>\n",
       "    </tr>\n",
       "    <tr>\n",
       "      <th>25</th>\n",
       "      <td>preapproval_name</td>\n",
       "      <td>The pre-approval status of the application.</td>\n",
       "    </tr>\n",
       "    <tr>\n",
       "      <th>26</th>\n",
       "      <td>property_type_name</td>\n",
       "      <td>The type of the property.</td>\n",
       "    </tr>\n",
       "    <tr>\n",
       "      <th>27</th>\n",
       "      <td>purchaser_type_name</td>\n",
       "      <td>The type of institution purchasing the loan.</td>\n",
       "    </tr>\n",
       "  </tbody>\n",
       "</table>\n",
       "</div>"
      ],
      "text/plain": [
       "                             field  \\\n",
       "0                action_taken_name   \n",
       "1                      agency_name   \n",
       "2         applicant_ethnicity_name   \n",
       "3            applicant_income_000s   \n",
       "4            applicant_race_name_1   \n",
       "5               applicant_sex_name   \n",
       "6      co_applicant_ethnicity_name   \n",
       "7         co_applicant_race_name_1   \n",
       "8            co_applicant_sex_name   \n",
       "9                      county_name   \n",
       "10            denial_reason_name_1   \n",
       "11            denial_reason_name_2   \n",
       "12            denial_reason_name_3   \n",
       "13               hoepa_status_name   \n",
       "14        hud_median_family_income   \n",
       "15                lien_status_name   \n",
       "16                loan_amount_000s   \n",
       "17               loan_purpose_name   \n",
       "18                  loan_type_name   \n",
       "19             minority_population   \n",
       "20                      msamd_name   \n",
       "21   number_of_1_to_4_family_units   \n",
       "22  number_of_owner_occupied_units   \n",
       "23            owner_occupancy_name   \n",
       "24                      population   \n",
       "25                preapproval_name   \n",
       "26              property_type_name   \n",
       "27             purchaser_type_name   \n",
       "\n",
       "                                                                                                                                                                                                                                                                                                                         description  \n",
       "0                                                                                    The action taken on the loan or application, such as whether an application was approved or denied. Loan originated means the application resulted in a mortgage. Loan purchased means that the lender bought the loan on the secondary market.  \n",
       "1                                                                                                                                                                                                                                                  The federal agency to which the HMDA-reporting institution submits its HMDA data.  \n",
       "2                                                                                                                                                                                                                                                                                            The ethnicity of the primary applicant.  \n",
       "3                                                                                                                                                                                          The gross annual income that the lender relied on when evaluating the creditworthiness of the applicant, rounded to the nearest thousand.  \n",
       "4                                                                                                                                                                                                                                                                                   The first listed race for the primary applicant.  \n",
       "5                                                                                                                                                                                                                                                                                                  The sex of the primary applicant.  \n",
       "6                                                                                                                                                                                                                                                                                                 The ethnicity of the co-applicant.  \n",
       "7                                                                                                                                                                                                                                                                                        The first listed race for the co-applicant.  \n",
       "8                                                                                                                                                                                                                                                                                                       The sex of the co-applicant.  \n",
       "9                                                                                                                                                                                                                                                                                    The name of the county containing the property.  \n",
       "10                                                                                                                                                                                                    The first reason for denial of the application. Lenders may report up to three denial reasons, but such reporting is optional.  \n",
       "11                                                                                                                                                                                                                                                                                  The second reason for denial of the application.  \n",
       "12                                                                                                                                                                                                                                                                                   The third reason for denial of the application.  \n",
       "13                                                                                                                                                                                       The HOEPA status of the application representing whether a loan is subject to the Home Ownership and Equity Protection Act of 1994 (HOEPA).  \n",
       "14                                                                                                                                                                                         The median family income in dollars for the MSA/MD (Metropolitian Statistical Area/Metropolitian Division) in which the tract is located.  \n",
       "15                                                                                                                                     The lien status. Most mortgages are secured by a lien against the property. In the event of a forced liquidation, first lien holders will generally get paid before subordinate lien holders.  \n",
       "16                                                                                                                                                                                                                                                                      The amount of the loan applied for, in thousands of dollars.  \n",
       "17                                                                                                                                                                                                                                                          The purpose of the loan (home purchase, refinance, or home improvement).  \n",
       "18  The type of loan applied for. Many loans are insured or guaranteed by government programs offered by Federal Housing Administration (FHA), the Department of Veterans Affairs (VA), or the Department of Agriculture's Rural Housing Service (RHS) or Farm Service Agency (FSA). All other loans are classified as conventional.  \n",
       "19                                                                                                                                                                                                                    The percentage of minority population to total population for the census tract, carried to two decimal places.  \n",
       "20                                                         The Metropolitian Statistical Area/Metropolitian Division (MSA/MD) the property is located in. An MSA is a region with relatively high population density at its core (usually a single large city) and close economic ties throughout. Larger MSAs are divided into MDs.  \n",
       "21                                                                                                                                                                                                                                               The number of dwellings in the tract that are built to house fewer than 5 families.  \n",
       "22                                                                                                                                                                                                                                                              The number of dwellings in the tract that are lived in by the owner.  \n",
       "23                                                                                                                                                                   The owner-occupancy status of the property. Second homes, vacation homes, and rental properties are classified as \"not owner-occupied as a principal dwelling\".  \n",
       "24                                                                                                                                                                                                                                                                                                The total population in the tract.  \n",
       "25                                                                                                                                                                                                                                                                                       The pre-approval status of the application.  \n",
       "26                                                                                                                                                                                                                                                                                                         The type of the property.  \n",
       "27                                                                                                                                                                                                                                                                                      The type of institution purchasing the loan.  "
      ]
     },
     "execution_count": 4,
     "metadata": {},
     "output_type": "execute_result"
    }
   ],
   "source": [
    "header"
   ]
  },
  {
   "cell_type": "code",
   "execution_count": 5,
   "metadata": {},
   "outputs": [],
   "source": [
    "# Read the actual data and convert data types to most appropriate ones\n",
    "df = pd.read_csv(\"sample.csv\").convert_dtypes()"
   ]
  },
  {
   "cell_type": "code",
   "execution_count": 6,
   "metadata": {},
   "outputs": [
    {
     "name": "stdout",
     "output_type": "stream",
     "text": [
      "<class 'pandas.core.frame.DataFrame'>\n",
      "RangeIndex: 175862 entries, 0 to 175861\n",
      "Data columns (total 28 columns):\n",
      " #   Column                          Non-Null Count   Dtype  \n",
      "---  ------                          --------------   -----  \n",
      " 0   action_taken_name               175862 non-null  string \n",
      " 1   agency_name                     175862 non-null  string \n",
      " 2   applicant_ethnicity_name        175862 non-null  string \n",
      " 3   applicant_race_name_1           175862 non-null  string \n",
      " 4   applicant_sex_name              175862 non-null  string \n",
      " 5   applicant_income_000s           151344 non-null  Int64  \n",
      " 6   co_applicant_ethnicity_name     175862 non-null  string \n",
      " 7   co_applicant_race_name_1        175862 non-null  string \n",
      " 8   co_applicant_sex_name           175862 non-null  string \n",
      " 9   county_name                     175377 non-null  string \n",
      " 10  denial_reason_name_1            23067 non-null   string \n",
      " 11  denial_reason_name_2            4650 non-null    string \n",
      " 12  denial_reason_name_3            920 non-null     string \n",
      " 13  hoepa_status_name               175862 non-null  string \n",
      " 14  lien_status_name                175862 non-null  string \n",
      " 15  loan_purpose_name               175862 non-null  string \n",
      " 16  loan_type_name                  175862 non-null  string \n",
      " 17  msamd_name                      161220 non-null  string \n",
      " 18  owner_occupancy_name            175862 non-null  string \n",
      " 19  preapproval_name                175862 non-null  string \n",
      " 20  property_type_name              175862 non-null  string \n",
      " 21  purchaser_type_name             175862 non-null  string \n",
      " 22  hud_median_family_income        175178 non-null  Int64  \n",
      " 23  loan_amount_000s                175862 non-null  Int64  \n",
      " 24  number_of_1_to_4_family_units   174951 non-null  Int64  \n",
      " 25  number_of_owner_occupied_units  175020 non-null  Int64  \n",
      " 26  minority_population             175166 non-null  float64\n",
      " 27  population                      175166 non-null  Int64  \n",
      "dtypes: Int64(6), float64(1), string(21)\n",
      "memory usage: 38.6 MB\n"
     ]
    }
   ],
   "source": [
    "# First glimpse of data types and how many columns are actually filled with data \n",
    "df.info()"
   ]
  },
  {
   "cell_type": "code",
   "execution_count": 7,
   "metadata": {},
   "outputs": [
    {
     "data": {
      "text/plain": [
       "action_taken_name                  0.00\n",
       "agency_name                        0.00\n",
       "applicant_ethnicity_name           0.00\n",
       "applicant_race_name_1              0.00\n",
       "applicant_sex_name                 0.00\n",
       "applicant_income_000s             13.94\n",
       "co_applicant_ethnicity_name        0.00\n",
       "co_applicant_race_name_1           0.00\n",
       "co_applicant_sex_name              0.00\n",
       "county_name                        0.28\n",
       "denial_reason_name_1              86.88\n",
       "denial_reason_name_2              97.36\n",
       "denial_reason_name_3              99.48\n",
       "hoepa_status_name                  0.00\n",
       "lien_status_name                   0.00\n",
       "loan_purpose_name                  0.00\n",
       "loan_type_name                     0.00\n",
       "msamd_name                         8.33\n",
       "owner_occupancy_name               0.00\n",
       "preapproval_name                   0.00\n",
       "property_type_name                 0.00\n",
       "purchaser_type_name                0.00\n",
       "hud_median_family_income           0.39\n",
       "loan_amount_000s                   0.00\n",
       "number_of_1_to_4_family_units      0.52\n",
       "number_of_owner_occupied_units     0.48\n",
       "minority_population                0.40\n",
       "population                         0.40\n",
       "dtype: float64"
      ]
     },
     "execution_count": 7,
     "metadata": {},
     "output_type": "execute_result"
    }
   ],
   "source": [
    "# As some columns have only a few data entries,\n",
    "# let's calculate the percentage of missing values for each column\n",
    "def percentage_isna(dataframe):\n",
    "    return 100 * dataframe.isna().sum()/ dataframe.shape[0]\n",
    "percentage_isna(df)"
   ]
  },
  {
   "cell_type": "markdown",
   "metadata": {},
   "source": [
    "## First observations\n",
    "Most columns provide enough data.\n",
    "\n",
    "Interestingly, almost 14% of the applicant's annual gross income isn't provided which seems counter-intuitive as one would expect that the income should play an important role. \n",
    "\n",
    "\n",
    "Apperently, most loan applications don't have a denial reasons.\n",
    "Possible hypothesis: Most applications weren't denied.\n",
    "\n",
    "Over 8% of the entries don't offer more detailed geographical data than the county name (which is missing only in 0.28% of all applications).\n",
    "\n",
    "All other features are more than 99% filled with data :)"
   ]
  },
  {
   "cell_type": "code",
   "execution_count": 8,
   "metadata": {},
   "outputs": [
    {
     "data": {
      "text/html": [
       "<div>\n",
       "<style scoped>\n",
       "    .dataframe tbody tr th:only-of-type {\n",
       "        vertical-align: middle;\n",
       "    }\n",
       "\n",
       "    .dataframe tbody tr th {\n",
       "        vertical-align: top;\n",
       "    }\n",
       "\n",
       "    .dataframe thead th {\n",
       "        text-align: right;\n",
       "    }\n",
       "</style>\n",
       "<table border=\"1\" class=\"dataframe\">\n",
       "  <thead>\n",
       "    <tr style=\"text-align: right;\">\n",
       "      <th></th>\n",
       "      <th>action_taken_name</th>\n",
       "      <th>agency_name</th>\n",
       "      <th>applicant_ethnicity_name</th>\n",
       "      <th>applicant_race_name_1</th>\n",
       "      <th>applicant_sex_name</th>\n",
       "      <th>applicant_income_000s</th>\n",
       "      <th>co_applicant_ethnicity_name</th>\n",
       "      <th>co_applicant_race_name_1</th>\n",
       "      <th>co_applicant_sex_name</th>\n",
       "      <th>county_name</th>\n",
       "      <th>denial_reason_name_1</th>\n",
       "      <th>denial_reason_name_2</th>\n",
       "      <th>denial_reason_name_3</th>\n",
       "      <th>hoepa_status_name</th>\n",
       "      <th>lien_status_name</th>\n",
       "      <th>loan_purpose_name</th>\n",
       "      <th>loan_type_name</th>\n",
       "      <th>msamd_name</th>\n",
       "      <th>owner_occupancy_name</th>\n",
       "      <th>preapproval_name</th>\n",
       "      <th>property_type_name</th>\n",
       "      <th>purchaser_type_name</th>\n",
       "      <th>hud_median_family_income</th>\n",
       "      <th>loan_amount_000s</th>\n",
       "      <th>number_of_1_to_4_family_units</th>\n",
       "      <th>number_of_owner_occupied_units</th>\n",
       "      <th>minority_population</th>\n",
       "      <th>population</th>\n",
       "    </tr>\n",
       "  </thead>\n",
       "  <tbody>\n",
       "    <tr>\n",
       "      <th>0</th>\n",
       "      <td>Application denied by financial institution</td>\n",
       "      <td>Consumer Financial Protection Bureau</td>\n",
       "      <td>Not Hispanic or Latino</td>\n",
       "      <td>White</td>\n",
       "      <td>Female</td>\n",
       "      <td>176</td>\n",
       "      <td>No co-applicant</td>\n",
       "      <td>No co-applicant</td>\n",
       "      <td>No co-applicant</td>\n",
       "      <td>Chautauqua County</td>\n",
       "      <td>Collateral</td>\n",
       "      <td>&lt;NA&gt;</td>\n",
       "      <td>&lt;NA&gt;</td>\n",
       "      <td>Not a HOEPA loan</td>\n",
       "      <td>Secured by a first lien</td>\n",
       "      <td>Refinancing</td>\n",
       "      <td>Conventional</td>\n",
       "      <td>&lt;NA&gt;</td>\n",
       "      <td>Not owner-occupied as a principal dwelling</td>\n",
       "      <td>Not applicable</td>\n",
       "      <td>One-to-four family dwelling (other than manufactured housing)</td>\n",
       "      <td>Loan was not originated or was not sold in calendar year covered by register</td>\n",
       "      <td>60000</td>\n",
       "      <td>235</td>\n",
       "      <td>2605</td>\n",
       "      <td>930</td>\n",
       "      <td>6.85</td>\n",
       "      <td>2979</td>\n",
       "    </tr>\n",
       "    <tr>\n",
       "      <th>1</th>\n",
       "      <td>Application withdrawn by applicant</td>\n",
       "      <td>Department of Housing and Urban Development</td>\n",
       "      <td>Not Hispanic or Latino</td>\n",
       "      <td>White</td>\n",
       "      <td>Male</td>\n",
       "      <td>53</td>\n",
       "      <td>No co-applicant</td>\n",
       "      <td>No co-applicant</td>\n",
       "      <td>No co-applicant</td>\n",
       "      <td>Erie County</td>\n",
       "      <td>&lt;NA&gt;</td>\n",
       "      <td>&lt;NA&gt;</td>\n",
       "      <td>&lt;NA&gt;</td>\n",
       "      <td>Not a HOEPA loan</td>\n",
       "      <td>Secured by a first lien</td>\n",
       "      <td>Home purchase</td>\n",
       "      <td>FHA-insured</td>\n",
       "      <td>Buffalo, Cheektowaga, Niagara Falls - NY</td>\n",
       "      <td>Owner-occupied as a principal dwelling</td>\n",
       "      <td>Not applicable</td>\n",
       "      <td>One-to-four family dwelling (other than manufactured housing)</td>\n",
       "      <td>Loan was not originated or was not sold in calendar year covered by register</td>\n",
       "      <td>69000</td>\n",
       "      <td>108</td>\n",
       "      <td>2053</td>\n",
       "      <td>821</td>\n",
       "      <td>33.58</td>\n",
       "      <td>4416</td>\n",
       "    </tr>\n",
       "    <tr>\n",
       "      <th>2</th>\n",
       "      <td>Loan originated</td>\n",
       "      <td>Consumer Financial Protection Bureau</td>\n",
       "      <td>Not Hispanic or Latino</td>\n",
       "      <td>White</td>\n",
       "      <td>Male</td>\n",
       "      <td>223</td>\n",
       "      <td>Not Hispanic or Latino</td>\n",
       "      <td>White</td>\n",
       "      <td>Female</td>\n",
       "      <td>Queens County</td>\n",
       "      <td>&lt;NA&gt;</td>\n",
       "      <td>&lt;NA&gt;</td>\n",
       "      <td>&lt;NA&gt;</td>\n",
       "      <td>Not a HOEPA loan</td>\n",
       "      <td>Secured by a first lien</td>\n",
       "      <td>Home purchase</td>\n",
       "      <td>Conventional</td>\n",
       "      <td>New York, Jersey City, White Plains - NY, NJ</td>\n",
       "      <td>Owner-occupied as a principal dwelling</td>\n",
       "      <td>Not applicable</td>\n",
       "      <td>One-to-four family dwelling (other than manufactured housing)</td>\n",
       "      <td>Loan was not originated or was not sold in calendar year covered by register</td>\n",
       "      <td>71300</td>\n",
       "      <td>659</td>\n",
       "      <td>497</td>\n",
       "      <td>387</td>\n",
       "      <td>49.96</td>\n",
       "      <td>1363</td>\n",
       "    </tr>\n",
       "    <tr>\n",
       "      <th>3</th>\n",
       "      <td>Loan originated</td>\n",
       "      <td>Consumer Financial Protection Bureau</td>\n",
       "      <td>Not Hispanic or Latino</td>\n",
       "      <td>Asian</td>\n",
       "      <td>Female</td>\n",
       "      <td>43</td>\n",
       "      <td>No co-applicant</td>\n",
       "      <td>No co-applicant</td>\n",
       "      <td>No co-applicant</td>\n",
       "      <td>Queens County</td>\n",
       "      <td>&lt;NA&gt;</td>\n",
       "      <td>&lt;NA&gt;</td>\n",
       "      <td>&lt;NA&gt;</td>\n",
       "      <td>Not a HOEPA loan</td>\n",
       "      <td>Secured by a first lien</td>\n",
       "      <td>Home purchase</td>\n",
       "      <td>Conventional</td>\n",
       "      <td>New York, Jersey City, White Plains - NY, NJ</td>\n",
       "      <td>Owner-occupied as a principal dwelling</td>\n",
       "      <td>Not applicable</td>\n",
       "      <td>One-to-four family dwelling (other than manufactured housing)</td>\n",
       "      <td>Loan was not originated or was not sold in calendar year covered by register</td>\n",
       "      <td>71300</td>\n",
       "      <td>103</td>\n",
       "      <td>251</td>\n",
       "      <td>558</td>\n",
       "      <td>32.09</td>\n",
       "      <td>1960</td>\n",
       "    </tr>\n",
       "    <tr>\n",
       "      <th>4</th>\n",
       "      <td>Loan originated</td>\n",
       "      <td>National Credit Union Administration</td>\n",
       "      <td>Not Hispanic or Latino</td>\n",
       "      <td>White</td>\n",
       "      <td>Male</td>\n",
       "      <td>72</td>\n",
       "      <td>No co-applicant</td>\n",
       "      <td>No co-applicant</td>\n",
       "      <td>No co-applicant</td>\n",
       "      <td>Steuben County</td>\n",
       "      <td>&lt;NA&gt;</td>\n",
       "      <td>&lt;NA&gt;</td>\n",
       "      <td>&lt;NA&gt;</td>\n",
       "      <td>Not a HOEPA loan</td>\n",
       "      <td>Secured by a first lien</td>\n",
       "      <td>Home purchase</td>\n",
       "      <td>Conventional</td>\n",
       "      <td>&lt;NA&gt;</td>\n",
       "      <td>Owner-occupied as a principal dwelling</td>\n",
       "      <td>Preapproval was requested</td>\n",
       "      <td>One-to-four family dwelling (other than manufactured housing)</td>\n",
       "      <td>Loan was not originated or was not sold in calendar year covered by register</td>\n",
       "      <td>60000</td>\n",
       "      <td>45</td>\n",
       "      <td>1514</td>\n",
       "      <td>1003</td>\n",
       "      <td>2.12</td>\n",
       "      <td>3391</td>\n",
       "    </tr>\n",
       "  </tbody>\n",
       "</table>\n",
       "</div>"
      ],
      "text/plain": [
       "                             action_taken_name  \\\n",
       "0  Application denied by financial institution   \n",
       "1           Application withdrawn by applicant   \n",
       "2                              Loan originated   \n",
       "3                              Loan originated   \n",
       "4                              Loan originated   \n",
       "\n",
       "                                   agency_name applicant_ethnicity_name  \\\n",
       "0         Consumer Financial Protection Bureau   Not Hispanic or Latino   \n",
       "1  Department of Housing and Urban Development   Not Hispanic or Latino   \n",
       "2         Consumer Financial Protection Bureau   Not Hispanic or Latino   \n",
       "3         Consumer Financial Protection Bureau   Not Hispanic or Latino   \n",
       "4         National Credit Union Administration   Not Hispanic or Latino   \n",
       "\n",
       "  applicant_race_name_1 applicant_sex_name  applicant_income_000s  \\\n",
       "0                 White             Female                    176   \n",
       "1                 White               Male                     53   \n",
       "2                 White               Male                    223   \n",
       "3                 Asian             Female                     43   \n",
       "4                 White               Male                     72   \n",
       "\n",
       "  co_applicant_ethnicity_name co_applicant_race_name_1 co_applicant_sex_name  \\\n",
       "0             No co-applicant          No co-applicant       No co-applicant   \n",
       "1             No co-applicant          No co-applicant       No co-applicant   \n",
       "2      Not Hispanic or Latino                    White                Female   \n",
       "3             No co-applicant          No co-applicant       No co-applicant   \n",
       "4             No co-applicant          No co-applicant       No co-applicant   \n",
       "\n",
       "         county_name denial_reason_name_1 denial_reason_name_2  \\\n",
       "0  Chautauqua County           Collateral                 <NA>   \n",
       "1        Erie County                 <NA>                 <NA>   \n",
       "2      Queens County                 <NA>                 <NA>   \n",
       "3      Queens County                 <NA>                 <NA>   \n",
       "4     Steuben County                 <NA>                 <NA>   \n",
       "\n",
       "  denial_reason_name_3 hoepa_status_name         lien_status_name  \\\n",
       "0                 <NA>  Not a HOEPA loan  Secured by a first lien   \n",
       "1                 <NA>  Not a HOEPA loan  Secured by a first lien   \n",
       "2                 <NA>  Not a HOEPA loan  Secured by a first lien   \n",
       "3                 <NA>  Not a HOEPA loan  Secured by a first lien   \n",
       "4                 <NA>  Not a HOEPA loan  Secured by a first lien   \n",
       "\n",
       "  loan_purpose_name loan_type_name  \\\n",
       "0       Refinancing   Conventional   \n",
       "1     Home purchase    FHA-insured   \n",
       "2     Home purchase   Conventional   \n",
       "3     Home purchase   Conventional   \n",
       "4     Home purchase   Conventional   \n",
       "\n",
       "                                     msamd_name  \\\n",
       "0                                          <NA>   \n",
       "1      Buffalo, Cheektowaga, Niagara Falls - NY   \n",
       "2  New York, Jersey City, White Plains - NY, NJ   \n",
       "3  New York, Jersey City, White Plains - NY, NJ   \n",
       "4                                          <NA>   \n",
       "\n",
       "                         owner_occupancy_name           preapproval_name  \\\n",
       "0  Not owner-occupied as a principal dwelling             Not applicable   \n",
       "1      Owner-occupied as a principal dwelling             Not applicable   \n",
       "2      Owner-occupied as a principal dwelling             Not applicable   \n",
       "3      Owner-occupied as a principal dwelling             Not applicable   \n",
       "4      Owner-occupied as a principal dwelling  Preapproval was requested   \n",
       "\n",
       "                                              property_type_name  \\\n",
       "0  One-to-four family dwelling (other than manufactured housing)   \n",
       "1  One-to-four family dwelling (other than manufactured housing)   \n",
       "2  One-to-four family dwelling (other than manufactured housing)   \n",
       "3  One-to-four family dwelling (other than manufactured housing)   \n",
       "4  One-to-four family dwelling (other than manufactured housing)   \n",
       "\n",
       "                                                            purchaser_type_name  \\\n",
       "0  Loan was not originated or was not sold in calendar year covered by register   \n",
       "1  Loan was not originated or was not sold in calendar year covered by register   \n",
       "2  Loan was not originated or was not sold in calendar year covered by register   \n",
       "3  Loan was not originated or was not sold in calendar year covered by register   \n",
       "4  Loan was not originated or was not sold in calendar year covered by register   \n",
       "\n",
       "   hud_median_family_income  loan_amount_000s  number_of_1_to_4_family_units  \\\n",
       "0                     60000               235                           2605   \n",
       "1                     69000               108                           2053   \n",
       "2                     71300               659                            497   \n",
       "3                     71300               103                            251   \n",
       "4                     60000                45                           1514   \n",
       "\n",
       "   number_of_owner_occupied_units  minority_population  population  \n",
       "0                             930                 6.85        2979  \n",
       "1                             821                33.58        4416  \n",
       "2                             387                49.96        1363  \n",
       "3                             558                32.09        1960  \n",
       "4                            1003                 2.12        3391  "
      ]
     },
     "execution_count": 8,
     "metadata": {},
     "output_type": "execute_result"
    }
   ],
   "source": [
    "# Let's have a first look into the actual data\n",
    "df.head()"
   ]
  },
  {
   "cell_type": "code",
   "execution_count": 9,
   "metadata": {},
   "outputs": [
    {
     "data": {
      "text/plain": [
       "189"
      ]
     },
     "execution_count": 9,
     "metadata": {},
     "output_type": "execute_result"
    }
   ],
   "source": [
    "# Let's check for duplicates\n",
    "sum(df.duplicated())"
   ]
  },
  {
   "cell_type": "markdown",
   "metadata": {},
   "source": [
    "Okay, 189 out of 175,862 doesn't look suscipious, so I assume the data collection worked properly and there is no systematic problem with duplicates.\n",
    "\n",
    "Let's move on, after we finished a few sanity checks.\n",
    "## Categorical Data"
   ]
  },
  {
   "cell_type": "code",
   "execution_count": 10,
   "metadata": {},
   "outputs": [],
   "source": [
    "# Let's check the categorical data first\n",
    "categorical = df.select_dtypes('string').columns"
   ]
  },
  {
   "cell_type": "code",
   "execution_count": 11,
   "metadata": {},
   "outputs": [
    {
     "data": {
      "text/html": [
       "<div>\n",
       "<style scoped>\n",
       "    .dataframe tbody tr th:only-of-type {\n",
       "        vertical-align: middle;\n",
       "    }\n",
       "\n",
       "    .dataframe tbody tr th {\n",
       "        vertical-align: top;\n",
       "    }\n",
       "\n",
       "    .dataframe thead th {\n",
       "        text-align: right;\n",
       "    }\n",
       "</style>\n",
       "<table border=\"1\" class=\"dataframe\">\n",
       "  <thead>\n",
       "    <tr style=\"text-align: right;\">\n",
       "      <th></th>\n",
       "      <th>action_taken_name</th>\n",
       "      <th>agency_name</th>\n",
       "      <th>applicant_ethnicity_name</th>\n",
       "      <th>applicant_race_name_1</th>\n",
       "      <th>applicant_sex_name</th>\n",
       "      <th>co_applicant_ethnicity_name</th>\n",
       "      <th>co_applicant_race_name_1</th>\n",
       "      <th>co_applicant_sex_name</th>\n",
       "      <th>county_name</th>\n",
       "      <th>denial_reason_name_1</th>\n",
       "      <th>denial_reason_name_2</th>\n",
       "      <th>denial_reason_name_3</th>\n",
       "      <th>hoepa_status_name</th>\n",
       "      <th>lien_status_name</th>\n",
       "      <th>loan_purpose_name</th>\n",
       "      <th>loan_type_name</th>\n",
       "      <th>msamd_name</th>\n",
       "      <th>owner_occupancy_name</th>\n",
       "      <th>preapproval_name</th>\n",
       "      <th>property_type_name</th>\n",
       "      <th>purchaser_type_name</th>\n",
       "    </tr>\n",
       "  </thead>\n",
       "  <tbody>\n",
       "    <tr>\n",
       "      <th>count</th>\n",
       "      <td>175862</td>\n",
       "      <td>175862</td>\n",
       "      <td>175862</td>\n",
       "      <td>175862</td>\n",
       "      <td>175862</td>\n",
       "      <td>175862</td>\n",
       "      <td>175862</td>\n",
       "      <td>175862</td>\n",
       "      <td>175377</td>\n",
       "      <td>23067</td>\n",
       "      <td>4650</td>\n",
       "      <td>920</td>\n",
       "      <td>175862</td>\n",
       "      <td>175862</td>\n",
       "      <td>175862</td>\n",
       "      <td>175862</td>\n",
       "      <td>161220</td>\n",
       "      <td>175862</td>\n",
       "      <td>175862</td>\n",
       "      <td>175862</td>\n",
       "      <td>175862</td>\n",
       "    </tr>\n",
       "    <tr>\n",
       "      <th>unique</th>\n",
       "      <td>7</td>\n",
       "      <td>6</td>\n",
       "      <td>4</td>\n",
       "      <td>7</td>\n",
       "      <td>4</td>\n",
       "      <td>5</td>\n",
       "      <td>8</td>\n",
       "      <td>5</td>\n",
       "      <td>62</td>\n",
       "      <td>9</td>\n",
       "      <td>9</td>\n",
       "      <td>9</td>\n",
       "      <td>2</td>\n",
       "      <td>4</td>\n",
       "      <td>3</td>\n",
       "      <td>4</td>\n",
       "      <td>14</td>\n",
       "      <td>3</td>\n",
       "      <td>3</td>\n",
       "      <td>3</td>\n",
       "      <td>10</td>\n",
       "    </tr>\n",
       "    <tr>\n",
       "      <th>top</th>\n",
       "      <td>Loan originated</td>\n",
       "      <td>Consumer Financial Protection Bureau</td>\n",
       "      <td>Not Hispanic or Latino</td>\n",
       "      <td>White</td>\n",
       "      <td>Male</td>\n",
       "      <td>No co-applicant</td>\n",
       "      <td>No co-applicant</td>\n",
       "      <td>No co-applicant</td>\n",
       "      <td>Suffolk County</td>\n",
       "      <td>Debt-to-income ratio</td>\n",
       "      <td>Credit history</td>\n",
       "      <td>Other</td>\n",
       "      <td>Not a HOEPA loan</td>\n",
       "      <td>Secured by a first lien</td>\n",
       "      <td>Home purchase</td>\n",
       "      <td>Conventional</td>\n",
       "      <td>New York, Jersey City, White Plains - NY, NJ</td>\n",
       "      <td>Owner-occupied as a principal dwelling</td>\n",
       "      <td>Not applicable</td>\n",
       "      <td>One-to-four family dwelling (other than manufactured housing)</td>\n",
       "      <td>Loan was not originated or was not sold in calendar year covered by register</td>\n",
       "    </tr>\n",
       "    <tr>\n",
       "      <th>freq</th>\n",
       "      <td>90982</td>\n",
       "      <td>70850</td>\n",
       "      <td>128400</td>\n",
       "      <td>113423</td>\n",
       "      <td>96939</td>\n",
       "      <td>92224</td>\n",
       "      <td>92224</td>\n",
       "      <td>92224</td>\n",
       "      <td>18063</td>\n",
       "      <td>6402</td>\n",
       "      <td>1115</td>\n",
       "      <td>271</td>\n",
       "      <td>175835</td>\n",
       "      <td>136068</td>\n",
       "      <td>87947</td>\n",
       "      <td>134915</td>\n",
       "      <td>64380</td>\n",
       "      <td>156700</td>\n",
       "      <td>145900</td>\n",
       "      <td>170677</td>\n",
       "      <td>102132</td>\n",
       "    </tr>\n",
       "  </tbody>\n",
       "</table>\n",
       "</div>"
      ],
      "text/plain": [
       "       action_taken_name                           agency_name  \\\n",
       "count             175862                                175862   \n",
       "unique                 7                                     6   \n",
       "top      Loan originated  Consumer Financial Protection Bureau   \n",
       "freq               90982                                 70850   \n",
       "\n",
       "       applicant_ethnicity_name applicant_race_name_1 applicant_sex_name  \\\n",
       "count                    175862                175862             175862   \n",
       "unique                        4                     7                  4   \n",
       "top      Not Hispanic or Latino                 White               Male   \n",
       "freq                     128400                113423              96939   \n",
       "\n",
       "       co_applicant_ethnicity_name co_applicant_race_name_1  \\\n",
       "count                       175862                   175862   \n",
       "unique                           5                        8   \n",
       "top                No co-applicant          No co-applicant   \n",
       "freq                         92224                    92224   \n",
       "\n",
       "       co_applicant_sex_name     county_name  denial_reason_name_1  \\\n",
       "count                 175862          175377                 23067   \n",
       "unique                     5              62                     9   \n",
       "top          No co-applicant  Suffolk County  Debt-to-income ratio   \n",
       "freq                   92224           18063                  6402   \n",
       "\n",
       "       denial_reason_name_2 denial_reason_name_3 hoepa_status_name  \\\n",
       "count                  4650                  920            175862   \n",
       "unique                    9                    9                 2   \n",
       "top          Credit history                Other  Not a HOEPA loan   \n",
       "freq                   1115                  271            175835   \n",
       "\n",
       "               lien_status_name loan_purpose_name loan_type_name  \\\n",
       "count                    175862            175862         175862   \n",
       "unique                        4                 3              4   \n",
       "top     Secured by a first lien     Home purchase   Conventional   \n",
       "freq                     136068             87947         134915   \n",
       "\n",
       "                                          msamd_name  \\\n",
       "count                                         161220   \n",
       "unique                                            14   \n",
       "top     New York, Jersey City, White Plains - NY, NJ   \n",
       "freq                                           64380   \n",
       "\n",
       "                          owner_occupancy_name preapproval_name  \\\n",
       "count                                   175862           175862   \n",
       "unique                                       3                3   \n",
       "top     Owner-occupied as a principal dwelling   Not applicable   \n",
       "freq                                    156700           145900   \n",
       "\n",
       "                                                   property_type_name  \\\n",
       "count                                                          175862   \n",
       "unique                                                              3   \n",
       "top     One-to-four family dwelling (other than manufactured housing)   \n",
       "freq                                                           170677   \n",
       "\n",
       "                                                                 purchaser_type_name  \n",
       "count                                                                         175862  \n",
       "unique                                                                            10  \n",
       "top     Loan was not originated or was not sold in calendar year covered by register  \n",
       "freq                                                                          102132  "
      ]
     },
     "execution_count": 11,
     "metadata": {},
     "output_type": "execute_result"
    }
   ],
   "source": [
    "df.describe(include='string')"
   ]
  },
  {
   "cell_type": "markdown",
   "metadata": {},
   "source": [
    "## Some more quick observations\n",
    "\n",
    "- Indeed, most of the loan applications aren't rejected because the most frequent `action_taken_name` is \"Loan originated\".\n",
    "- Most applicants are white men without hispanic or Latino ethnicity which filed the application without a co-applicant.\n",
    "- Out of the rejected applications, the top denial reasons are debt-to-income ratio and credit history which sounds reasonably.\n",
    "- Almost all loans are \"not a HOEPA loan\" (only 27 actually are).\n",
    "- Most loans are conventional loans secured by a first lien used for home purchases (owner-occupied as a principal dwelling in a 1-4 family dwelling).\n",
    "\n",
    "What is surprising is that the most frequent occuring county is \"Suffolk County\" but the top occuring MSA/MD region is \"New York, Jersey City, White Plains - NY, NJ\".\n",
    "\n",
    "As except the geographical features all categorical variables have only up to 10 distinct values,\n",
    "let's inspect them visually:"
   ]
  },
  {
   "cell_type": "code",
   "execution_count": 12,
   "metadata": {},
   "outputs": [],
   "source": [
    "# Utility function to allow visually exploring the value distribution of the categorical features.\n",
    "def count_plot(data, feature_name):\n",
    "    fig, ax = plt.subplots()\n",
    "    # Order by frequency\n",
    "    sns.countplot(data[feature_name], order=data[feature_name].value_counts().index, ax=ax)\n",
    "    \n",
    "    # Show percentages\n",
    "    total = len(data[feature_name])\n",
    "    for p in ax.patches:\n",
    "        percentage = '{:.1f}%'.format(100 * p.get_height() / total)\n",
    "        x = p.get_x() + p.get_width() / 4 - 0.05\n",
    "        y = p.get_y() + p.get_height()\n",
    "        ax.annotate(percentage, (x, y), size = 10)\n",
    "    # Rotate long labels\n",
    "    ax.set_xticklabels(ax.get_xticklabels(), rotation=45, horizontalalignment='right')\n",
    "    plt.show()"
   ]
  },
  {
   "cell_type": "markdown",
   "metadata": {},
   "source": [
    "### Loan application process outcomes\n"
   ]
  },
  {
   "cell_type": "code",
   "execution_count": 13,
   "metadata": {},
   "outputs": [
    {
     "data": {
      "image/png": "[encoded data removed]",
      "text/plain": [
       "<Figure size 432x288 with 1 Axes>"
      ]
     },
     "metadata": {
      "needs_background": "light"
     },
     "output_type": "display_data"
    }
   ],
   "source": [
    "count_plot(df, 'action_taken_name')"
   ]
  },
  {
   "cell_type": "markdown",
   "metadata": {},
   "source": [
    "There are basically two groups of loan actions:\n",
    "- successful applications:\n",
    "    - Loan originated\n",
    "    - Loan purchased by the institution\n",
    "    - Application approved but not accepted\n",
    "- or unsuccessful applications:\n",
    "    - Application denied by financial institution\n",
    "    - Application withdrawn by applicant\n",
    "    - File closed for incompleteness\n",
    "    - Preapproval request denied by financial institution\n"
   ]
  },
  {
   "cell_type": "code",
   "execution_count": 14,
   "metadata": {},
   "outputs": [
    {
     "data": {
      "text/plain": [
       "Loan originated                                        90982\n",
       "Application denied by financial institution            32005\n",
       "Loan purchased by the institution                      24682\n",
       "Application withdrawn by applicant                     15765\n",
       "File closed for incompleteness                          6682\n",
       "Application approved but not accepted                   5743\n",
       "Preapproval request denied by financial institution        3\n",
       "Name: action_taken_name, dtype: Int64"
      ]
     },
     "execution_count": 14,
     "metadata": {},
     "output_type": "execute_result"
    }
   ],
   "source": [
    "# Let's check if there were indeed that less preapproval requests denied\n",
    "df.action_taken_name.value_counts()"
   ]
  },
  {
   "cell_type": "code",
   "execution_count": 15,
   "metadata": {},
   "outputs": [
    {
     "data": {
      "image/png": "[encoded data removed]",
      "text/plain": [
       "<Figure size 432x288 with 1 Axes>"
      ]
     },
     "metadata": {
      "needs_background": "light"
     },
     "output_type": "display_data"
    }
   ],
   "source": [
    "# Let's dig deeper\n",
    "count_plot(df, 'preapproval_name')"
   ]
  },
  {
   "cell_type": "code",
   "execution_count": 16,
   "metadata": {
    "scrolled": true
   },
   "outputs": [
    {
     "data": {
      "text/plain": [
       "4218"
      ]
     },
     "execution_count": 16,
     "metadata": {},
     "output_type": "execute_result"
    }
   ],
   "source": [
    "df.preapproval_name.value_counts()['Preapproval was requested']"
   ]
  },
  {
   "cell_type": "code",
   "execution_count": 17,
   "metadata": {},
   "outputs": [
    {
     "data": {
      "text/html": [
       "<div>\n",
       "<style scoped>\n",
       "    .dataframe tbody tr th:only-of-type {\n",
       "        vertical-align: middle;\n",
       "    }\n",
       "\n",
       "    .dataframe tbody tr th {\n",
       "        vertical-align: top;\n",
       "    }\n",
       "\n",
       "    .dataframe thead th {\n",
       "        text-align: right;\n",
       "    }\n",
       "</style>\n",
       "<table border=\"1\" class=\"dataframe\">\n",
       "  <thead>\n",
       "    <tr style=\"text-align: right;\">\n",
       "      <th></th>\n",
       "      <th>action_taken_name</th>\n",
       "      <th>agency_name</th>\n",
       "      <th>applicant_ethnicity_name</th>\n",
       "      <th>applicant_race_name_1</th>\n",
       "      <th>applicant_sex_name</th>\n",
       "      <th>applicant_income_000s</th>\n",
       "      <th>co_applicant_ethnicity_name</th>\n",
       "      <th>co_applicant_race_name_1</th>\n",
       "      <th>co_applicant_sex_name</th>\n",
       "      <th>county_name</th>\n",
       "      <th>denial_reason_name_1</th>\n",
       "      <th>denial_reason_name_2</th>\n",
       "      <th>denial_reason_name_3</th>\n",
       "      <th>hoepa_status_name</th>\n",
       "      <th>lien_status_name</th>\n",
       "      <th>loan_purpose_name</th>\n",
       "      <th>loan_type_name</th>\n",
       "      <th>msamd_name</th>\n",
       "      <th>owner_occupancy_name</th>\n",
       "      <th>preapproval_name</th>\n",
       "      <th>property_type_name</th>\n",
       "      <th>purchaser_type_name</th>\n",
       "      <th>hud_median_family_income</th>\n",
       "      <th>loan_amount_000s</th>\n",
       "      <th>number_of_1_to_4_family_units</th>\n",
       "      <th>number_of_owner_occupied_units</th>\n",
       "      <th>minority_population</th>\n",
       "      <th>population</th>\n",
       "    </tr>\n",
       "  </thead>\n",
       "  <tbody>\n",
       "    <tr>\n",
       "      <th>91976</th>\n",
       "      <td>Preapproval request denied by financial institution</td>\n",
       "      <td>Consumer Financial Protection Bureau</td>\n",
       "      <td>Not Hispanic or Latino</td>\n",
       "      <td>White</td>\n",
       "      <td>Male</td>\n",
       "      <td>115</td>\n",
       "      <td>No co-applicant</td>\n",
       "      <td>No co-applicant</td>\n",
       "      <td>No co-applicant</td>\n",
       "      <td>Erie County</td>\n",
       "      <td>Debt-to-income ratio</td>\n",
       "      <td>&lt;NA&gt;</td>\n",
       "      <td>&lt;NA&gt;</td>\n",
       "      <td>Not a HOEPA loan</td>\n",
       "      <td>Secured by a first lien</td>\n",
       "      <td>Home purchase</td>\n",
       "      <td>Conventional</td>\n",
       "      <td>Buffalo, Cheektowaga, Niagara Falls - NY</td>\n",
       "      <td>Owner-occupied as a principal dwelling</td>\n",
       "      <td>Preapproval was requested</td>\n",
       "      <td>One-to-four family dwelling (other than manufactured housing)</td>\n",
       "      <td>Loan was not originated or was not sold in calendar year covered by register</td>\n",
       "      <td>69000</td>\n",
       "      <td>339</td>\n",
       "      <td>2755</td>\n",
       "      <td>2573</td>\n",
       "      <td>15.97</td>\n",
       "      <td>7641</td>\n",
       "    </tr>\n",
       "    <tr>\n",
       "      <th>113354</th>\n",
       "      <td>Preapproval request denied by financial institution</td>\n",
       "      <td>Consumer Financial Protection Bureau</td>\n",
       "      <td>Not Hispanic or Latino</td>\n",
       "      <td>Asian</td>\n",
       "      <td>Male</td>\n",
       "      <td>78</td>\n",
       "      <td>Not Hispanic or Latino</td>\n",
       "      <td>Asian</td>\n",
       "      <td>Female</td>\n",
       "      <td>Suffolk County</td>\n",
       "      <td>Other</td>\n",
       "      <td>&lt;NA&gt;</td>\n",
       "      <td>&lt;NA&gt;</td>\n",
       "      <td>Not a HOEPA loan</td>\n",
       "      <td>Secured by a first lien</td>\n",
       "      <td>Home purchase</td>\n",
       "      <td>Conventional</td>\n",
       "      <td>Nassau County, Suffolk County - NY</td>\n",
       "      <td>Owner-occupied as a principal dwelling</td>\n",
       "      <td>Preapproval was requested</td>\n",
       "      <td>One-to-four family dwelling (other than manufactured housing)</td>\n",
       "      <td>Loan was not originated or was not sold in calendar year covered by register</td>\n",
       "      <td>109000</td>\n",
       "      <td>100</td>\n",
       "      <td>1449</td>\n",
       "      <td>953</td>\n",
       "      <td>85.73</td>\n",
       "      <td>6272</td>\n",
       "    </tr>\n",
       "    <tr>\n",
       "      <th>129436</th>\n",
       "      <td>Preapproval request denied by financial institution</td>\n",
       "      <td>National Credit Union Administration</td>\n",
       "      <td>Not Hispanic or Latino</td>\n",
       "      <td>Asian</td>\n",
       "      <td>Male</td>\n",
       "      <td>129</td>\n",
       "      <td>No co-applicant</td>\n",
       "      <td>No co-applicant</td>\n",
       "      <td>No co-applicant</td>\n",
       "      <td>Nassau County</td>\n",
       "      <td>&lt;NA&gt;</td>\n",
       "      <td>&lt;NA&gt;</td>\n",
       "      <td>&lt;NA&gt;</td>\n",
       "      <td>Not a HOEPA loan</td>\n",
       "      <td>Secured by a first lien</td>\n",
       "      <td>Home purchase</td>\n",
       "      <td>Conventional</td>\n",
       "      <td>Nassau County, Suffolk County - NY</td>\n",
       "      <td>Owner-occupied as a principal dwelling</td>\n",
       "      <td>Preapproval was requested</td>\n",
       "      <td>One-to-four family dwelling (other than manufactured housing)</td>\n",
       "      <td>Loan was not originated or was not sold in calendar year covered by register</td>\n",
       "      <td>109000</td>\n",
       "      <td>386</td>\n",
       "      <td>739</td>\n",
       "      <td>706</td>\n",
       "      <td>13.48</td>\n",
       "      <td>2159</td>\n",
       "    </tr>\n",
       "  </tbody>\n",
       "</table>\n",
       "</div>"
      ],
      "text/plain": [
       "                                          action_taken_name  \\\n",
       "91976   Preapproval request denied by financial institution   \n",
       "113354  Preapproval request denied by financial institution   \n",
       "129436  Preapproval request denied by financial institution   \n",
       "\n",
       "                                 agency_name applicant_ethnicity_name  \\\n",
       "91976   Consumer Financial Protection Bureau   Not Hispanic or Latino   \n",
       "113354  Consumer Financial Protection Bureau   Not Hispanic or Latino   \n",
       "129436  National Credit Union Administration   Not Hispanic or Latino   \n",
       "\n",
       "       applicant_race_name_1 applicant_sex_name  applicant_income_000s  \\\n",
       "91976                  White               Male                    115   \n",
       "113354                 Asian               Male                     78   \n",
       "129436                 Asian               Male                    129   \n",
       "\n",
       "       co_applicant_ethnicity_name co_applicant_race_name_1  \\\n",
       "91976              No co-applicant          No co-applicant   \n",
       "113354      Not Hispanic or Latino                    Asian   \n",
       "129436             No co-applicant          No co-applicant   \n",
       "\n",
       "       co_applicant_sex_name     county_name  denial_reason_name_1  \\\n",
       "91976        No co-applicant     Erie County  Debt-to-income ratio   \n",
       "113354                Female  Suffolk County                 Other   \n",
       "129436       No co-applicant   Nassau County                  <NA>   \n",
       "\n",
       "       denial_reason_name_2 denial_reason_name_3 hoepa_status_name  \\\n",
       "91976                  <NA>                 <NA>  Not a HOEPA loan   \n",
       "113354                 <NA>                 <NA>  Not a HOEPA loan   \n",
       "129436                 <NA>                 <NA>  Not a HOEPA loan   \n",
       "\n",
       "               lien_status_name loan_purpose_name loan_type_name  \\\n",
       "91976   Secured by a first lien     Home purchase   Conventional   \n",
       "113354  Secured by a first lien     Home purchase   Conventional   \n",
       "129436  Secured by a first lien     Home purchase   Conventional   \n",
       "\n",
       "                                      msamd_name  \\\n",
       "91976   Buffalo, Cheektowaga, Niagara Falls - NY   \n",
       "113354        Nassau County, Suffolk County - NY   \n",
       "129436        Nassau County, Suffolk County - NY   \n",
       "\n",
       "                          owner_occupancy_name           preapproval_name  \\\n",
       "91976   Owner-occupied as a principal dwelling  Preapproval was requested   \n",
       "113354  Owner-occupied as a principal dwelling  Preapproval was requested   \n",
       "129436  Owner-occupied as a principal dwelling  Preapproval was requested   \n",
       "\n",
       "                                                   property_type_name  \\\n",
       "91976   One-to-four family dwelling (other than manufactured housing)   \n",
       "113354  One-to-four family dwelling (other than manufactured housing)   \n",
       "129436  One-to-four family dwelling (other than manufactured housing)   \n",
       "\n",
       "                                                                 purchaser_type_name  \\\n",
       "91976   Loan was not originated or was not sold in calendar year covered by register   \n",
       "113354  Loan was not originated or was not sold in calendar year covered by register   \n",
       "129436  Loan was not originated or was not sold in calendar year covered by register   \n",
       "\n",
       "        hud_median_family_income  loan_amount_000s  \\\n",
       "91976                      69000               339   \n",
       "113354                    109000               100   \n",
       "129436                    109000               386   \n",
       "\n",
       "        number_of_1_to_4_family_units  number_of_owner_occupied_units  \\\n",
       "91976                            2755                            2573   \n",
       "113354                           1449                             953   \n",
       "129436                            739                             706   \n",
       "\n",
       "        minority_population  population  \n",
       "91976                 15.97        7641  \n",
       "113354                85.73        6272  \n",
       "129436                13.48        2159  "
      ]
     },
     "execution_count": 17,
     "metadata": {},
     "output_type": "execute_result"
    }
   ],
   "source": [
    "# Applications with requested but denied preapproval\n",
    "df[(df.preapproval_name == 'Preapproval was requested') & (df.action_taken_name == 'Preapproval request denied by financial institution')]"
   ]
  },
  {
   "cell_type": "markdown",
   "metadata": {},
   "source": [
    "Obviously, most applications don't need a preapproval (not applicable)\n",
    "or the preapproval was actually not requested.\n",
    "\n",
    "Only 3 out of the 4218 applications where a preapproval was requested were actually denied.\n",
    "\n",
    "## **Insight:** It is extremely rare that a preapproval is requested and gets rejected.\n",
    "\n",
    "Let's get back to the other types of loan actions:"
   ]
  },
  {
   "cell_type": "code",
   "execution_count": 18,
   "metadata": {},
   "outputs": [
    {
     "data": {
      "text/plain": [
       "(6682, 28)"
      ]
     },
     "execution_count": 18,
     "metadata": {},
     "output_type": "execute_result"
    }
   ],
   "source": [
    "# Count of 'File closed for incompleteness'\n",
    "df[df.action_taken_name == 'File closed for incompleteness'].shape"
   ]
  },
  {
   "cell_type": "code",
   "execution_count": 19,
   "metadata": {},
   "outputs": [
    {
     "data": {
      "text/plain": [
       "(15765, 28)"
      ]
     },
     "execution_count": 19,
     "metadata": {},
     "output_type": "execute_result"
    }
   ],
   "source": [
    "# Count of 'Application withdrawn by applicant'\n",
    "df[df.action_taken_name == 'Application withdrawn by applicant'].shape"
   ]
  },
  {
   "cell_type": "markdown",
   "metadata": {},
   "source": [
    "Let's get rid of incomplete and withdrawn applications as they potentially pollute our data\n",
    "\n",
    "As I don't have enough domain knowledge about preapprovals, let's drop these 3 rows as well.\n",
    "\n",
    "The action 'Loan purchased by the institution' indicates that the loan was bought in the secondary market\n",
    "which might be handled separately compared to the first market."
   ]
  },
  {
   "cell_type": "code",
   "execution_count": 20,
   "metadata": {},
   "outputs": [
    {
     "data": {
      "text/plain": [
       "(128730, 28)"
      ]
     },
     "execution_count": 20,
     "metadata": {},
     "output_type": "execute_result"
    }
   ],
   "source": [
    "dropped_actions = ['File closed for incompleteness',\n",
    "                   'Application withdrawn by applicant',\n",
    "                   'Preapproval request denied by financial institution',\n",
    "                   'Loan purchased by the institution']\n",
    "df = df[df.action_taken_name.isin(dropped_actions) == False]\n",
    "df.shape"
   ]
  },
  {
   "cell_type": "code",
   "execution_count": 21,
   "metadata": {},
   "outputs": [
    {
     "data": {
      "image/png": "[encoded data removed]",
      "text/plain": [
       "<Figure size 432x288 with 1 Axes>"
      ]
     },
     "metadata": {
      "needs_background": "light"
     },
     "output_type": "display_data"
    }
   ],
   "source": [
    "# We end up with the following 3 categories\n",
    "count_plot(df, 'action_taken_name')"
   ]
  },
  {
   "cell_type": "code",
   "execution_count": 22,
   "metadata": {},
   "outputs": [],
   "source": [
    "# Shorten some really long texts\n",
    "df = df.replace({\n",
    "    \"Information not provided by applicant in mail, Internet, or telephone application\": \"Not provided\",\n",
    "    \"One-to-four family dwelling (other than manufactured housing)\": \"1-4 family dwelling\",\n",
    "}\n",
    ")"
   ]
  },
  {
   "cell_type": "code",
   "execution_count": 23,
   "metadata": {},
   "outputs": [],
   "source": [
    "# Let's group 'Loan originated' and 'Application approved but not accepted' together as successful applications\n",
    "successful_mask = (df.action_taken_name == 'Loan originated') | (df.action_taken_name == 'Application approved but not accepted')\n",
    "successful = df[successful_mask]\n",
    "denied = df[df.action_taken_name == 'Application denied by financial institution']"
   ]
  },
  {
   "cell_type": "code",
   "execution_count": 24,
   "metadata": {},
   "outputs": [
    {
     "data": {
      "image/png": "[encoded data removed]",
      "text/plain": [
       "<Figure size 432x288 with 1 Axes>"
      ]
     },
     "metadata": {
      "needs_background": "light"
     },
     "output_type": "display_data"
    }
   ],
   "source": [
    "count_plot(successful,'loan_purpose_name')"
   ]
  },
  {
   "cell_type": "code",
   "execution_count": 25,
   "metadata": {},
   "outputs": [
    {
     "data": {
      "image/png": "[encoded data removed]",
      "text/plain": [
       "<Figure size 432x288 with 1 Axes>"
      ]
     },
     "metadata": {
      "needs_background": "light"
     },
     "output_type": "display_data"
    }
   ],
   "source": [
    "count_plot(denied,'loan_purpose_name')"
   ]
  },
  {
   "cell_type": "markdown",
   "metadata": {},
   "source": [
    "**Insight:** The loan type home purchase (55%) is more often approved compared to refinancing (34.5%) or home improvements (10.3%).\n",
    "51% of all denied loan applications were of the type refinancing but only 27.9% were of the type home purchase and 21.1% home improvement.\n",
    "\n",
    "## What are the top reasons for denial?"
   ]
  },
  {
   "cell_type": "code",
   "execution_count": 26,
   "metadata": {},
   "outputs": [
    {
     "data": {
      "text/plain": [
       "Debt-to-income ratio                              7470\n",
       "Credit history                                    6825\n",
       "Collateral                                        5174\n",
       "Credit application incomplete                     3117\n",
       "Other                                             3099\n",
       "Unverifiable information                          1200\n",
       "Insufficient cash (downpayment, closing costs)    1189\n",
       "Employment history                                 479\n",
       "Mortgage insurance denied                           82\n",
       "Name: denial_reason_name_1, dtype: Int64"
      ]
     },
     "execution_count": 26,
     "metadata": {},
     "output_type": "execute_result"
    }
   ],
   "source": [
    "# Count all denial reasons\n",
    "reasons = denied.denial_reason_name_1.value_counts()\n",
    "reasons += denied.denial_reason_name_2.value_counts()\n",
    "reasons += denied.denial_reason_name_3.value_counts()\n",
    "reasons"
   ]
  },
  {
   "cell_type": "markdown",
   "metadata": {},
   "source": [
    "It seams natural to make a more detailed analysis\n",
    "whether there is an influence of the demographic data of the applicants and co-applicants\n",
    "(ethnicity, race, sex), geographical aspects (county and MSA/MD) or\n",
    "analyzing the other features in detail.\n",
    "\n",
    "## Numerical data\n",
    "But, let's have a quick look at the numerical data as well."
   ]
  },
  {
   "cell_type": "code",
   "execution_count": 27,
   "metadata": {},
   "outputs": [],
   "source": [
    "numerical = [column for column, dtype in df.dtypes.items() if pd.api.types.is_numeric_dtype(dtype)]"
   ]
  },
  {
   "cell_type": "code",
   "execution_count": 28,
   "metadata": {},
   "outputs": [
    {
     "data": {
      "text/plain": [
       "['applicant_income_000s',\n",
       " 'hud_median_family_income',\n",
       " 'loan_amount_000s',\n",
       " 'number_of_1_to_4_family_units',\n",
       " 'number_of_owner_occupied_units',\n",
       " 'minority_population',\n",
       " 'population']"
      ]
     },
     "execution_count": 28,
     "metadata": {},
     "output_type": "execute_result"
    }
   ],
   "source": [
    "numerical"
   ]
  },
  {
   "cell_type": "code",
   "execution_count": 29,
   "metadata": {},
   "outputs": [
    {
     "data": {
      "text/plain": [
       "(118272, 28)"
      ]
     },
     "execution_count": 29,
     "metadata": {},
     "output_type": "execute_result"
    }
   ],
   "source": [
    "# Drop missing values\n",
    "df_clean = df.dropna(subset=numerical)\n",
    "df_clean.shape"
   ]
  },
  {
   "cell_type": "code",
   "execution_count": 30,
   "metadata": {},
   "outputs": [
    {
     "data": {
      "text/html": [
       "<div>\n",
       "<style scoped>\n",
       "    .dataframe tbody tr th:only-of-type {\n",
       "        vertical-align: middle;\n",
       "    }\n",
       "\n",
       "    .dataframe tbody tr th {\n",
       "        vertical-align: top;\n",
       "    }\n",
       "\n",
       "    .dataframe thead th {\n",
       "        text-align: right;\n",
       "    }\n",
       "</style>\n",
       "<table border=\"1\" class=\"dataframe\">\n",
       "  <thead>\n",
       "    <tr style=\"text-align: right;\">\n",
       "      <th></th>\n",
       "      <th>applicant_income_000s</th>\n",
       "      <th>hud_median_family_income</th>\n",
       "      <th>loan_amount_000s</th>\n",
       "      <th>number_of_1_to_4_family_units</th>\n",
       "      <th>number_of_owner_occupied_units</th>\n",
       "      <th>minority_population</th>\n",
       "      <th>population</th>\n",
       "    </tr>\n",
       "  </thead>\n",
       "  <tbody>\n",
       "    <tr>\n",
       "      <th>count</th>\n",
       "      <td>118272.00</td>\n",
       "      <td>118272.00</td>\n",
       "      <td>118272.00</td>\n",
       "      <td>118272.00</td>\n",
       "      <td>118272.00</td>\n",
       "      <td>118272.00</td>\n",
       "      <td>118272.00</td>\n",
       "    </tr>\n",
       "    <tr>\n",
       "      <th>mean</th>\n",
       "      <td>138.60</td>\n",
       "      <td>77753.24</td>\n",
       "      <td>277.18</td>\n",
       "      <td>1550.28</td>\n",
       "      <td>1242.61</td>\n",
       "      <td>26.63</td>\n",
       "      <td>4751.72</td>\n",
       "    </tr>\n",
       "    <tr>\n",
       "      <th>std</th>\n",
       "      <td>272.98</td>\n",
       "      <td>16184.85</td>\n",
       "      <td>406.79</td>\n",
       "      <td>792.48</td>\n",
       "      <td>598.03</td>\n",
       "      <td>27.33</td>\n",
       "      <td>1856.59</td>\n",
       "    </tr>\n",
       "    <tr>\n",
       "      <th>min</th>\n",
       "      <td>1.00</td>\n",
       "      <td>57200.00</td>\n",
       "      <td>1.00</td>\n",
       "      <td>6.00</td>\n",
       "      <td>5.00</td>\n",
       "      <td>0.34</td>\n",
       "      <td>24.00</td>\n",
       "    </tr>\n",
       "    <tr>\n",
       "      <th>25%</th>\n",
       "      <td>57.00</td>\n",
       "      <td>69000.00</td>\n",
       "      <td>92.00</td>\n",
       "      <td>1020.00</td>\n",
       "      <td>790.00</td>\n",
       "      <td>7.05</td>\n",
       "      <td>3465.00</td>\n",
       "    </tr>\n",
       "    <tr>\n",
       "      <th>50%</th>\n",
       "      <td>89.00</td>\n",
       "      <td>71300.00</td>\n",
       "      <td>190.00</td>\n",
       "      <td>1562.00</td>\n",
       "      <td>1218.00</td>\n",
       "      <td>15.78</td>\n",
       "      <td>4558.00</td>\n",
       "    </tr>\n",
       "    <tr>\n",
       "      <th>75%</th>\n",
       "      <td>140.00</td>\n",
       "      <td>82700.00</td>\n",
       "      <td>350.00</td>\n",
       "      <td>2034.00</td>\n",
       "      <td>1655.00</td>\n",
       "      <td>34.13</td>\n",
       "      <td>5880.00</td>\n",
       "    </tr>\n",
       "    <tr>\n",
       "      <th>max</th>\n",
       "      <td>9999.00</td>\n",
       "      <td>109000.00</td>\n",
       "      <td>24000.00</td>\n",
       "      <td>6345.00</td>\n",
       "      <td>6454.00</td>\n",
       "      <td>99.93</td>\n",
       "      <td>26588.00</td>\n",
       "    </tr>\n",
       "  </tbody>\n",
       "</table>\n",
       "</div>"
      ],
      "text/plain": [
       "       applicant_income_000s  hud_median_family_income  loan_amount_000s  \\\n",
       "count              118272.00                 118272.00         118272.00   \n",
       "mean                  138.60                  77753.24            277.18   \n",
       "std                   272.98                  16184.85            406.79   \n",
       "min                     1.00                  57200.00              1.00   \n",
       "25%                    57.00                  69000.00             92.00   \n",
       "50%                    89.00                  71300.00            190.00   \n",
       "75%                   140.00                  82700.00            350.00   \n",
       "max                  9999.00                 109000.00          24000.00   \n",
       "\n",
       "       number_of_1_to_4_family_units  number_of_owner_occupied_units  \\\n",
       "count                      118272.00                       118272.00   \n",
       "mean                         1550.28                         1242.61   \n",
       "std                           792.48                          598.03   \n",
       "min                             6.00                            5.00   \n",
       "25%                          1020.00                          790.00   \n",
       "50%                          1562.00                         1218.00   \n",
       "75%                          2034.00                         1655.00   \n",
       "max                          6345.00                         6454.00   \n",
       "\n",
       "       minority_population  population  \n",
       "count            118272.00   118272.00  \n",
       "mean                 26.63     4751.72  \n",
       "std                  27.33     1856.59  \n",
       "min                   0.34       24.00  \n",
       "25%                   7.05     3465.00  \n",
       "50%                  15.78     4558.00  \n",
       "75%                  34.13     5880.00  \n",
       "max                  99.93    26588.00  "
      ]
     },
     "execution_count": 30,
     "metadata": {},
     "output_type": "execute_result"
    }
   ],
   "source": [
    "# Let's have a quick view at the data distribution\n",
    "df_clean.describe()"
   ]
  },
  {
   "cell_type": "markdown",
   "metadata": {},
   "source": [
    "In general, these numbers might have some problems, for example:\n",
    "- The min and max of the applicant's income look really suspicious.\n",
    "- There is probably a problem with the data collection or a special semantics to these numbers, especially compared to the more realistic median family income.\n",
    "- The minimum loan amount seams a bit low.\n",
    "\n",
    "An outlier detection might be useful.\n",
    "\n",
    "However, let's see if there are some interesting relationships between the numerical variables:"
   ]
  },
  {
   "cell_type": "code",
   "execution_count": 31,
   "metadata": {},
   "outputs": [
    {
     "data": {
      "text/plain": [
       "<AxesSubplot:>"
      ]
     },
     "execution_count": 31,
     "metadata": {},
     "output_type": "execute_result"
    },
    {
     "data": {
      "image/png": "[encoded data removed]",
      "text/plain": [
       "<Figure size 432x288 with 2 Axes>"
      ]
     },
     "metadata": {
      "needs_background": "light"
     },
     "output_type": "display_data"
    }
   ],
   "source": [
    "sns.heatmap(df_clean.select_dtypes(['float64' , 'int64']).corr(), annot=True, cmap=\"Spectral\", vmax=1, vmin=-1)"
   ]
  },
  {
   "cell_type": "markdown",
   "metadata": {},
   "source": [
    "## Further insights:\n",
    "- There is a positive correlation (0.63) between the applicant income and the loan amount, which makes intuitively sense.\n",
    "- Furthermore, there is an even stronger correlation (0.69) between the number of 1-4 family units and number of owner-occupied units. A plausible explanation would be that in a residential area with only single and multi-family houses it is more likely that you live in your own house compared to cities where most people rent.\n",
    "- The number of owner-occupied units is even slightly stronger (0.71) correlated with the population living in the tract,i.e., the more people living in a tract, the more owner-occupied units in the tract.\n",
    "- Interestingly, this number is also negatively correlated (-0.47) with the percentage of the minority population living in the tract and the same holds true (-0.38) for the number of 1-4 family units. This indicates, that minority population is more likely to live in residential areas with multi-family houses and less likely to live in their own house. \n",
    "\n",
    "Let's visualize those relationships:"
   ]
  },
  {
   "cell_type": "code",
   "execution_count": 32,
   "metadata": {},
   "outputs": [
    {
     "data": {
      "text/plain": [
       "<seaborn.axisgrid.JointGrid at 0x7f57833ec940>"
      ]
     },
     "execution_count": 32,
     "metadata": {},
     "output_type": "execute_result"
    },
    {
     "data": {
      "image/png": "[encoded data removed]",
      "text/plain": [
       "<Figure size 432x432 with 3 Axes>"
      ]
     },
     "metadata": {
      "needs_background": "light"
     },
     "output_type": "display_data"
    }
   ],
   "source": [
    "sns.jointplot(data=df_clean, x=\"number_of_owner_occupied_units\", y=\"number_of_1_to_4_family_units\", marker='.', s=10)"
   ]
  },
  {
   "cell_type": "code",
   "execution_count": 33,
   "metadata": {},
   "outputs": [
    {
     "data": {
      "text/plain": [
       "<seaborn.axisgrid.JointGrid at 0x7f5782b39828>"
      ]
     },
     "execution_count": 33,
     "metadata": {},
     "output_type": "execute_result"
    },
    {
     "data": {
      "image/png": "[encoded data removed]",
      "text/plain": [
       "<Figure size 432x432 with 3 Axes>"
      ]
     },
     "metadata": {
      "needs_background": "light"
     },
     "output_type": "display_data"
    }
   ],
   "source": [
    "sns.jointplot(data=df_clean, x=\"number_of_owner_occupied_units\", y='population', marker='.', s=10)"
   ]
  },
  {
   "cell_type": "markdown",
   "metadata": {},
   "source": [
    "However, when we compare the number of owner-occupied units with the minority population instead,\n",
    "the picture looks a lot different:"
   ]
  },
  {
   "cell_type": "code",
   "execution_count": 34,
   "metadata": {},
   "outputs": [
    {
     "data": {
      "text/plain": [
       "<seaborn.axisgrid.JointGrid at 0x7f578222e710>"
      ]
     },
     "execution_count": 34,
     "metadata": {},
     "output_type": "execute_result"
    },
    {
     "data": {
      "image/png": "[encoded data removed]",
      "text/plain": [
       "<Figure size 432x432 with 3 Axes>"
      ]
     },
     "metadata": {
      "needs_background": "light"
     },
     "output_type": "display_data"
    }
   ],
   "source": [
    "sns.jointplot(data=df_clean, x=\"number_of_owner_occupied_units\", y='minority_population', marker='.', s=10)"
   ]
  },
  {
   "cell_type": "markdown",
   "metadata": {},
   "source": [
    "Most tracts with a high percentage of minority population have only a small absolute number of owner-occupied units.\n",
    "\n",
    "But there is an eye-catching outlier! Let's have a closer look..."
   ]
  },
  {
   "cell_type": "code",
   "execution_count": 35,
   "metadata": {},
   "outputs": [
    {
     "data": {
      "text/html": [
       "<div>\n",
       "<style scoped>\n",
       "    .dataframe tbody tr th:only-of-type {\n",
       "        vertical-align: middle;\n",
       "    }\n",
       "\n",
       "    .dataframe tbody tr th {\n",
       "        vertical-align: top;\n",
       "    }\n",
       "\n",
       "    .dataframe thead th {\n",
       "        text-align: right;\n",
       "    }\n",
       "</style>\n",
       "<table border=\"1\" class=\"dataframe\">\n",
       "  <thead>\n",
       "    <tr style=\"text-align: right;\">\n",
       "      <th></th>\n",
       "      <th>county_name</th>\n",
       "      <th>msamd_name</th>\n",
       "      <th>applicant_race_name_1</th>\n",
       "    </tr>\n",
       "  </thead>\n",
       "  <tbody>\n",
       "    <tr>\n",
       "      <th>Black or African American</th>\n",
       "      <td>&lt;NA&gt;</td>\n",
       "      <td>&lt;NA&gt;</td>\n",
       "      <td>4.0</td>\n",
       "    </tr>\n",
       "    <tr>\n",
       "      <th>Bronx County</th>\n",
       "      <td>9</td>\n",
       "      <td>&lt;NA&gt;</td>\n",
       "      <td>NaN</td>\n",
       "    </tr>\n",
       "    <tr>\n",
       "      <th>New York, Jersey City, White Plains - NY, NJ</th>\n",
       "      <td>&lt;NA&gt;</td>\n",
       "      <td>9</td>\n",
       "      <td>NaN</td>\n",
       "    </tr>\n",
       "    <tr>\n",
       "      <th>Not provided</th>\n",
       "      <td>&lt;NA&gt;</td>\n",
       "      <td>&lt;NA&gt;</td>\n",
       "      <td>4.0</td>\n",
       "    </tr>\n",
       "    <tr>\n",
       "      <th>White</th>\n",
       "      <td>&lt;NA&gt;</td>\n",
       "      <td>&lt;NA&gt;</td>\n",
       "      <td>1.0</td>\n",
       "    </tr>\n",
       "  </tbody>\n",
       "</table>\n",
       "</div>"
      ],
      "text/plain": [
       "                                              county_name  msamd_name  \\\n",
       "Black or African American                            <NA>        <NA>   \n",
       "Bronx County                                            9        <NA>   \n",
       "New York, Jersey City, White Plains - NY, NJ         <NA>           9   \n",
       "Not provided                                         <NA>        <NA>   \n",
       "White                                                <NA>        <NA>   \n",
       "\n",
       "                                              applicant_race_name_1  \n",
       "Black or African American                                       4.0  \n",
       "Bronx County                                                    NaN  \n",
       "New York, Jersey City, White Plains - NY, NJ                    NaN  \n",
       "Not provided                                                    4.0  \n",
       "White                                                           1.0  "
      ]
     },
     "execution_count": 35,
     "metadata": {},
     "output_type": "execute_result"
    }
   ],
   "source": [
    "df_clean[df_clean.number_of_owner_occupied_units > 6000][\n",
    "    ['county_name', 'msamd_name', 'applicant_race_name_1']].apply(pd.Series.value_counts)"
   ]
  },
  {
   "cell_type": "markdown",
   "metadata": {},
   "source": [
    "It looks like mainly Black or African Americans live in The Bronx and apply for loans.\n",
    "\n",
    "Let's answer two more questions within this exploration (to inspect some more outliers): "
   ]
  },
  {
   "cell_type": "code",
   "execution_count": 36,
   "metadata": {},
   "outputs": [
    {
     "data": {
      "text/html": [
       "<div>\n",
       "<style scoped>\n",
       "    .dataframe tbody tr th:only-of-type {\n",
       "        vertical-align: middle;\n",
       "    }\n",
       "\n",
       "    .dataframe tbody tr th {\n",
       "        vertical-align: top;\n",
       "    }\n",
       "\n",
       "    .dataframe thead th {\n",
       "        text-align: right;\n",
       "    }\n",
       "</style>\n",
       "<table border=\"1\" class=\"dataframe\">\n",
       "  <thead>\n",
       "    <tr style=\"text-align: right;\">\n",
       "      <th></th>\n",
       "      <th>county_name</th>\n",
       "      <th>msamd_name</th>\n",
       "    </tr>\n",
       "  </thead>\n",
       "  <tbody>\n",
       "    <tr>\n",
       "      <th>New York County</th>\n",
       "      <td>11</td>\n",
       "      <td>&lt;NA&gt;</td>\n",
       "    </tr>\n",
       "    <tr>\n",
       "      <th>New York, Jersey City, White Plains - NY, NJ</th>\n",
       "      <td>&lt;NA&gt;</td>\n",
       "      <td>11</td>\n",
       "    </tr>\n",
       "  </tbody>\n",
       "</table>\n",
       "</div>"
      ],
      "text/plain": [
       "                                              county_name  msamd_name\n",
       "New York County                                        11        <NA>\n",
       "New York, Jersey City, White Plains - NY, NJ         <NA>          11"
      ]
     },
     "execution_count": 36,
     "metadata": {},
     "output_type": "execute_result"
    }
   ],
   "source": [
    "# In which area (i.e. tract) is the lowest number of owner occupied units?\n",
    "df_clean[df_clean.number_of_owner_occupied_units == 5][['county_name', 'msamd_name']].apply(pd.Series.value_counts)"
   ]
  },
  {
   "cell_type": "code",
   "execution_count": 37,
   "metadata": {},
   "outputs": [
    {
     "data": {
      "text/html": [
       "<div>\n",
       "<style scoped>\n",
       "    .dataframe tbody tr th:only-of-type {\n",
       "        vertical-align: middle;\n",
       "    }\n",
       "\n",
       "    .dataframe tbody tr th {\n",
       "        vertical-align: top;\n",
       "    }\n",
       "\n",
       "    .dataframe thead th {\n",
       "        text-align: right;\n",
       "    }\n",
       "</style>\n",
       "<table border=\"1\" class=\"dataframe\">\n",
       "  <thead>\n",
       "    <tr style=\"text-align: right;\">\n",
       "      <th></th>\n",
       "      <th>county_name</th>\n",
       "      <th>msamd_name</th>\n",
       "    </tr>\n",
       "  </thead>\n",
       "  <tbody>\n",
       "    <tr>\n",
       "      <th>Monroe County</th>\n",
       "      <td>1</td>\n",
       "      <td>&lt;NA&gt;</td>\n",
       "    </tr>\n",
       "    <tr>\n",
       "      <th>Rochester - NY</th>\n",
       "      <td>&lt;NA&gt;</td>\n",
       "      <td>1</td>\n",
       "    </tr>\n",
       "  </tbody>\n",
       "</table>\n",
       "</div>"
      ],
      "text/plain": [
       "                county_name  msamd_name\n",
       "Monroe County             1        <NA>\n",
       "Rochester - NY         <NA>           1"
      ]
     },
     "execution_count": 37,
     "metadata": {},
     "output_type": "execute_result"
    }
   ],
   "source": [
    "# In which area do the fewest people live?\n",
    "df_clean[df_clean.population == 24][['county_name', 'msamd_name']].apply(pd.Series.value_counts)"
   ]
  },
  {
   "cell_type": "markdown",
   "metadata": {},
   "source": [
    "After a first exploration of the data,\n",
    "some further steps would be necessary to better understand the dataset and its origin.\n",
    "\n",
    "For example, before a model could be trained to predict the success of an application,\n",
    "a better data preparation should take place with domain experts.\n",
    "For example, the applicant's income is missing in almost 14% of the applications\n",
    "and many unplausible values are contained for this feature as well.\n",
    "Otherwise, we will end up with \"garbage in, garbage out\".\n",
    "\n",
    "However, first of all, I would make sure to clarify the actual business problem that should be tackled\n",
    "before fixing inconsistencies of the data, normalizing it and\n",
    "if necessary enriching the data from other sources.\n",
    "\n",
    "Only then it makes sense to further deep-dive into the data,\n",
    "form hypotheses about the problem by (visually) analyzing the data\n",
    "and further feature-engineering.\n",
    "\n",
    "Subsequently, we can train a predictive model and analyze its outcome w.r.t. a potential bias\n",
    "(e.g. discrimination based on sex or race) and visualize the results appropriately.\n",
    "\n"
   ]
  }
 ],
 "metadata": {
  "kernelspec": {
   "display_name": "Python 3",
   "language": "python",
   "name": "python3"
  },
  "language_info": {
   "codemirror_mode": {
    "name": "ipython",
    "version": 3
   },
   "file_extension": ".py",
   "mimetype": "text/x-python",
   "name": "python",
   "nbconvert_exporter": "python",
   "pygments_lexer": "ipython3",
   "version": "3.7.0"
  }
 },
 "nbformat": 4,
 "nbformat_minor": 2
}
